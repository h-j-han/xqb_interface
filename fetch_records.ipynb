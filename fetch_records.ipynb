{
 "cells": [
  {
   "cell_type": "code",
   "execution_count": 2,
   "metadata": {},
   "outputs": [],
   "source": [
    "# Python 3.9.7 base, not qb\n",
    "\n",
    "import os\n",
    "import json\n",
    "# import altair as alt\n",
    "import pandas as pd\n",
    "from centaur.db.session import SessionLocal\n",
    "from centaur.models import Record, Player\n",
    "from centaur.utils import EXPLANATIONS, ID_TO_CONFIG\n",
    "\n",
    "\n",
    "session = SessionLocal()"
   ]
  },
  {
   "cell_type": "code",
   "execution_count": 3,
   "metadata": {},
   "outputs": [
    {
     "data": {
      "text/plain": [
       "<sqlalchemy.orm.query.Query at 0x1100b96d0>"
      ]
     },
     "execution_count": 3,
     "metadata": {},
     "output_type": "execute_result"
    }
   ],
   "source": [
    "session.query(Player)"
   ]
  },
  {
   "cell_type": "code",
   "execution_count": 13,
   "metadata": {},
   "outputs": [
    {
     "name": "stdout",
     "output_type": "stream",
     "text": [
      "dfds\n",
      "Rocky\n",
      "Yoo Yeon Sung\n",
      "asdf\n",
      "Delicate Bonus\n",
      "moscow\n",
      "asdf\n",
      "Orange King\n",
      "test1813sn\n",
      "Lively Paper\n",
      "ff\n",
      "dasd\n"
     ]
    }
   ],
   "source": [
    "for x in session.query(Player):\n",
    "    print(x.name)"
   ]
  },
  {
   "cell_type": "code",
   "execution_count": 20,
   "metadata": {},
   "outputs": [
    {
     "name": "stdout",
     "output_type": "stream",
     "text": [
      "x.name='Rocky'\tx.email='rocky1oo.zhang@gmail.com'\tx.ip_addr='tcp4:64.92.84.104:64076'\tx.score=-15\tlen(x.questions_seen)=8\tx.questions_answered=['xqb_feetthinking_round_00_question_2', 'xqb_feetthinking_round_00_question_3', 'xqb_feetthinking_round_00_question_7'] x.questions_correct=[]\n",
      "x.name='Yoo Yeon Sung'\tx.email='yooyeon6@gmail.com'\tx.ip_addr='tcp4:71.178.226.200:58336'\tx.score=0\tlen(x.questions_seen)=7\tx.questions_answered=[] x.questions_correct=[]\n",
      "x.name='asdf'\tx.email='asdf'\tx.ip_addr='tcp4:128.8.120.3:55030'\tx.score=0\tlen(x.questions_seen)=10\tx.questions_answered=[] x.questions_correct=[]\n",
      "x.name='Delicate Bonus'\tx.email='Delicate Bonus@qanta.org'\tx.ip_addr='tcp4:128.8.120.3:64927'\tx.score=-10\tlen(x.questions_seen)=8\tx.questions_answered=['xqb_feetthinking_round_00_question_1', 'xqb_feetthinking_round_00_question_2'] x.questions_correct=[]\n",
      "x.name='moscow'\tx.email='jordanbg@gmail.com'\tx.ip_addr='tcp4:72.66.62.254:55645'\tx.score=35\tlen(x.questions_seen)=8\tx.questions_answered=['xqb_feetthinking_round_00_question_2', 'xqb_feetthinking_round_00_question_3', 'xqb_feetthinking_round_00_question_4', 'xqb_feetthinking_round_00_question_5', 'xqb_feetthinking_round_00_question_6', 'xqb_feetthinking_round_00_question_7', 'xqb_feetthinking_round_00_question_8'] x.questions_correct=['xqb_feetthinking_round_00_question_4', 'xqb_feetthinking_round_00_question_5', 'xqb_feetthinking_round_00_question_6', 'xqb_feetthinking_round_00_question_7']\n",
      "x.name='asdf'\tx.email='asdf'\tx.ip_addr='tcp4:128.8.120.3:54196'\tx.score=-5\tlen(x.questions_seen)=8\tx.questions_answered=['xqb_feetthinking_round_00_question_2'] x.questions_correct=[]\n",
      "x.name='dasd'\tx.email='fdaf'\tx.ip_addr='tcp4:128.8.120.3:54598'\tx.score=-5\tlen(x.questions_seen)=2\tx.questions_answered=['xqb_feetthinking_round_00_question_5'] x.questions_correct=[]\n"
     ]
    }
   ],
   "source": [
    "for x in session.query(Player):\n",
    "    # print(x.__dict__)\n",
    "    if len(x.questions_seen) > 0:\n",
    "        print(f\"{x.name=}\\t{x.email=}\\t{x.ip_addr=}\\t{x.score=}\\t{len(x.questions_seen)=}\\t{x.questions_answered=} {x.questions_correct=}\")"
   ]
  },
  {
   "cell_type": "code",
   "execution_count": 7,
   "metadata": {},
   "outputs": [
    {
     "data": {
      "text/plain": [
       "{'_sa_instance_state': <sqlalchemy.orm.state.InstanceState at 0x147e20700>,\n",
       " 'ip_addr': 'tcp4:128.8.120.3:54598',\n",
       " 'id': 'player_dbaeb1fc324344c0b857f409c9678296',\n",
       " 'mediator_name': 'RandomDynamicMediator',\n",
       " 'questions_seen': ['xqb_feetthinking_round_00_question_5',\n",
       "  'xqb_feetthinking_round_00_question_6'],\n",
       " 'questions_correct': [],\n",
       " 'email': 'fdaf',\n",
       " 'name': 'dasd',\n",
       " 'score': -5,\n",
       " 'questions_answered': ['xqb_feetthinking_round_00_question_5']}"
      ]
     },
     "execution_count": 7,
     "metadata": {},
     "output_type": "execute_result"
    }
   ],
   "source": [
    "x.__dict__"
   ]
  },
  {
   "cell_type": "code",
   "execution_count": 21,
   "metadata": {},
   "outputs": [
    {
     "name": "stdout",
     "output_type": "stream",
     "text": [
      "None\n",
      "None\n",
      "photon\n",
      "photons\n",
      "None\n"
     ]
    }
   ],
   "source": [
    "question_id = 'xqb_feetthinking_round_00_question_7'\n",
    "results = session.query(Record).filter(Record.question_id == question_id).order_by(Record.date)\n",
    "\n",
    "for x in results:\n",
    "    print(x.guess)"
   ]
  },
  {
   "cell_type": "code",
   "execution_count": 22,
   "metadata": {},
   "outputs": [
    {
     "data": {
      "text/plain": [
       "{'a': <__main__.Orange at 0x147df8c70>, 'b': <__main__.Orange at 0x147df8e50>}"
      ]
     },
     "execution_count": 22,
     "metadata": {},
     "output_type": "execute_result"
    }
   ],
   "source": [
    "class Orange:\n",
    "    aa=0\n",
    "testdict = {}\n",
    "testdict['a'] = Orange()\n",
    "testdict['b'] = Orange()\n",
    "testdict"
   ]
  },
  {
   "cell_type": "code",
   "execution_count": 23,
   "metadata": {},
   "outputs": [
    {
     "data": {
      "text/plain": [
       "<__main__.Orange at 0x147df8c70>"
      ]
     },
     "execution_count": 23,
     "metadata": {},
     "output_type": "execute_result"
    }
   ],
   "source": [
    "testdict.pop('a')"
   ]
  },
  {
   "cell_type": "code",
   "execution_count": 24,
   "metadata": {},
   "outputs": [
    {
     "data": {
      "text/plain": [
       "{'b': <__main__.Orange at 0x147df8e50>}"
      ]
     },
     "execution_count": 24,
     "metadata": {},
     "output_type": "execute_result"
    }
   ],
   "source": [
    "testdict"
   ]
  },
  {
   "cell_type": "code",
   "execution_count": null,
   "metadata": {},
   "outputs": [],
   "source": []
  }
 ],
 "metadata": {
  "kernelspec": {
   "display_name": "Python 3",
   "language": "python",
   "name": "python3"
  },
  "language_info": {
   "codemirror_mode": {
    "name": "ipython",
    "version": 3
   },
   "file_extension": ".py",
   "mimetype": "text/x-python",
   "name": "python",
   "nbconvert_exporter": "python",
   "pygments_lexer": "ipython3",
   "version": "3.9.7"
  },
  "orig_nbformat": 4
 },
 "nbformat": 4,
 "nbformat_minor": 2
}
